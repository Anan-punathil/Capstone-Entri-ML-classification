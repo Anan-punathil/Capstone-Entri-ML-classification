{
  "nbformat": 4,
  "nbformat_minor": 0,
  "metadata": {
    "colab": {
      "provenance": [],
      "authorship_tag": "ABX9TyPzmfi1cDZf6S64a1mw1+pX",
      "include_colab_link": true
    },
    "kernelspec": {
      "name": "python3",
      "display_name": "Python 3"
    },
    "language_info": {
      "name": "python"
    }
  },
  "cells": [
    {
      "cell_type": "markdown",
      "metadata": {
        "id": "view-in-github",
        "colab_type": "text"
      },
      "source": [
        "<a href=\"https://colab.research.google.com/github/Anan-punathil/Capstone-Entri-ML-classification/blob/main/Customer_Conversion_Prediction_overviewipynb.ipynb\" target=\"_parent\"><img src=\"https://colab.research.google.com/assets/colab-badge.svg\" alt=\"Open In Colab\"/></a>"
      ]
    },
    {
      "cell_type": "markdown",
      "source": [
        "# **Customer Conversion Prediction overview**\n",
        "\n",
        "This project aims to build a machine learning model that predicts whether a potential customer will subscribe to a term insurance policy.\n",
        "\n",
        "Insurance companies use telemarketing to reach out to customers, but these campaigns are costly. By identifying customers most likely to convert, they can target their efforts more effectively."
      ],
      "metadata": {
        "id": "2uiCY4oNd9HM"
      }
    },
    {
      "cell_type": "markdown",
      "source": [
        "# Dataset\n",
        "The project uses historical marketing data from an insurance company, containing customer information like age, job, marital status, and previous campaign outcomes."
      ],
      "metadata": {
        "id": "GnZMc7ksd9KZ"
      }
    },
    {
      "cell_type": "markdown",
      "source": [
        "# Approach\n",
        "The project involves exploring the data, cleaning it, and then training different machine learning models to predict customer conversion. The best model is selected based on its performance and ability to generalize to new data."
      ],
      "metadata": {
        "id": "-N3bhA1Xd9Mf"
      }
    },
    {
      "cell_type": "markdown",
      "source": [
        "# Feature Engineering\n",
        "* **Encoding**: Machine learning models\n",
        "    generally work best with numerical data. You encoded categorical features like job, marital status, and education to convert them into a numerical format that the model could understand.\n",
        "* **Outlier Handling**: Outliers are extreme values that can skew model results. By clipping outlier values in features like age and call duration, you made your data more robust for modeling."
      ],
      "metadata": {
        "id": "GJkG4Ep_fX6A"
      }
    },
    {
      "cell_type": "markdown",
      "source": [
        "#Model Development\n",
        "\n",
        "Several machine learning models were developed and evaluated to predict Customer Conversion:\n",
        "\n",
        "* Logistic Regression\n",
        "\n",
        "* K-Nearest Neighbors\n",
        "\n",
        "* Decision Tree\n",
        "\n",
        "* XGBoost\n",
        "\n",
        "* Random Forest\n",
        "\n"
      ],
      "metadata": {
        "id": "Xb_l8QeKfZ9m"
      }
    },
    {
      "cell_type": "markdown",
      "source": [
        "#Model Evaluation\n",
        "Models were evaluated using the AUROC score, suitable for predicting customer conversion (yes/no). The Random Forest Classifier performed best with an AUROC of 0.904, indicating its high accuracy in identifying likely conversions. It was therefore selected as the most effective model.\n",
        "\n",
        "* **Metric**: Instead of MAE, RMSE, and R², which are typically used for regression problems, I used AUROC, which is appropriate for binary classification problems like yours (predicting whether a customer converts or not).\n",
        "\n",
        "* **Model**: Since your project used classification models, I replaced \"Random Forest Regressor\" with \"Random Forest Classifier\", the classification counterpart of the Random Forest algorithm."
      ],
      "metadata": {
        "id": "uoUFDw-ffZxw"
      }
    },
    {
      "cell_type": "markdown",
      "source": [
        "#Conclusion\n",
        "Based on the Feature Importance given by best machine Learning that will predict if a client subscribed to the insurance.\n",
        "\n",
        "The client should focused on the top few features of order given below to have them subscribed to the insurance.\n",
        "\n",
        "* **Duration** - Longer the call better influncing the clients\n",
        "\n",
        "* **Age** - Age of the person plays an important role in insurance. Middle age people are targeted more and people who suscribed to insurance also middle age people.\n",
        "\n",
        "* **Day** - People who subscribed to insurance are mostly mid of the month.\n",
        "\n",
        "* **Month** - In the month of may people subscribed to insurance are more.\n",
        "\n",
        "* **Job** - In this blue collar people are targeted more but people who subscribed more are from management job."
      ],
      "metadata": {
        "id": "9ikybaJKfZkM"
      }
    },
    {
      "cell_type": "markdown",
      "source": [
        "*Contact*\n",
        "\n",
        "For any inquiries or suggestions, feel free to contact me at [ananp5666@gmail.com]"
      ],
      "metadata": {
        "id": "J7m8i_MGfZW9"
      }
    },
    {
      "cell_type": "markdown",
      "source": [
        "\n",
        "\n",
        "---\n",
        "\n"
      ],
      "metadata": {
        "id": "ff4ROumefYg7"
      }
    }
  ]
}